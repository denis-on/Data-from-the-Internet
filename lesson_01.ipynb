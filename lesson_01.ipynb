{
 "cells": [
  {
   "cell_type": "markdown",
   "metadata": {},
   "source": [
    "# Lesson 01\n",
    "## Основы клиент-серверного взаимодействия. Парсинг API"
   ]
  },
  {
   "cell_type": "markdown",
   "metadata": {},
   "source": [
    "1. Посмотреть документацию к API GitHub, разобраться как вывести список репозиториев для конкретного пользователя, сохранить JSON-вывод в файле *.json."
   ]
  },
  {
   "cell_type": "code",
   "execution_count": 1,
   "metadata": {},
   "outputs": [],
   "source": [
    "import requests\n",
    "import json"
   ]
  },
  {
   "cell_type": "code",
   "execution_count": 2,
   "metadata": {},
   "outputs": [],
   "source": [
    "url = 'https://api.github.com'\n",
    "user='denis-on'"
   ]
  },
  {
   "cell_type": "code",
   "execution_count": 3,
   "metadata": {},
   "outputs": [],
   "source": [
    "r = requests.get(f'{url}/users/{user}/repos')"
   ]
  },
  {
   "cell_type": "code",
   "execution_count": 4,
   "metadata": {},
   "outputs": [],
   "source": [
    "with open('data.json', 'w') as f:\n",
    "    json.dump(r.json(), f)"
   ]
  },
  {
   "cell_type": "code",
   "execution_count": 5,
   "metadata": {},
   "outputs": [
    {
     "name": "stdout",
     "output_type": "stream",
     "text": [
      "basicsPython\n",
      "linear-algebra\n",
      "ph_ny_mat_sci\n",
      "TerVer-kurs\n",
      "test-first\n"
     ]
    }
   ],
   "source": [
    "for i in r.json():\n",
    "    print(i['name'])"
   ]
  },
  {
   "cell_type": "markdown",
   "metadata": {},
   "source": [
    "2. Изучить список открытых API. Найти среди них любое, требующее авторизацию (любого типа). Выполнить запросы к нему, пройдя авторизацию через curl, Postman, Python.Ответ сервера записать в файл (приложить скриншот для Postman и curl)"
   ]
  },
  {
   "cell_type": "code",
   "execution_count": 6,
   "metadata": {},
   "outputs": [],
   "source": [
    "url = 'https://cloud-api.yandex.net/v1/'\n",
    "token = 'AgAAAAA36-93AAXfhDqmJRBWtk38kNEIyZNsR3M'"
   ]
  },
  {
   "cell_type": "code",
   "execution_count": 7,
   "metadata": {},
   "outputs": [],
   "source": [
    "headers = {\n",
    "    'Content-Type': 'application/json', \\\n",
    "    'Authorization': token\n",
    "}"
   ]
  },
  {
   "cell_type": "code",
   "execution_count": 8,
   "metadata": {},
   "outputs": [],
   "source": [
    "disk_info = 'disk'\n",
    "folder_info = 'disk/resources'"
   ]
  },
  {
   "cell_type": "code",
   "execution_count": 9,
   "metadata": {},
   "outputs": [],
   "source": [
    "disk = requests.get(f'{url}{disk_info}')"
   ]
  },
  {
   "cell_type": "code",
   "execution_count": 10,
   "metadata": {},
   "outputs": [
    {
     "data": {
      "text/plain": [
       "{'message': 'Не авторизован.',\n",
       " 'description': 'Unauthorized',\n",
       " 'error': 'UnauthorizedError'}"
      ]
     },
     "execution_count": 10,
     "metadata": {},
     "output_type": "execute_result"
    }
   ],
   "source": [
    "disk.json()"
   ]
  },
  {
   "cell_type": "code",
   "execution_count": 11,
   "metadata": {},
   "outputs": [
    {
     "data": {
      "text/plain": [
       "{'max_file_size': 53687091200,\n",
       " 'unlimited_autoupload_enabled': False,\n",
       " 'total_space': 10737418240,\n",
       " 'trash_size': 0,\n",
       " 'is_paid': False,\n",
       " 'used_space': 40821195,\n",
       " 'system_folders': {'odnoklassniki': 'disk:/Социальные сети/Одноклассники',\n",
       "  'google': 'disk:/Социальные сети/Google+',\n",
       "  'instagram': 'disk:/Социальные сети/Instagram',\n",
       "  'vkontakte': 'disk:/Социальные сети/ВКонтакте',\n",
       "  'mailru': 'disk:/Социальные сети/Мой Мир',\n",
       "  'downloads': 'disk:/Загрузки/',\n",
       "  'applications': 'disk:/Приложения',\n",
       "  'facebook': 'disk:/Социальные сети/Facebook',\n",
       "  'social': 'disk:/Социальные сети/',\n",
       "  'screenshots': 'disk:/Скриншоты/',\n",
       "  'photostream': 'disk:/Фотокамера/'},\n",
       " 'user': {'country': 'ru',\n",
       "  'login': 'tibo78',\n",
       "  'display_name': 'tibo78',\n",
       "  'uid': '938209143'},\n",
       " 'revision': 1568636495074439}"
      ]
     },
     "execution_count": 11,
     "metadata": {},
     "output_type": "execute_result"
    }
   ],
   "source": [
    "disk = requests.get(f'{url}{disk_info}', headers = headers)\n",
    "disk.json()"
   ]
  },
  {
   "cell_type": "code",
   "execution_count": 12,
   "metadata": {},
   "outputs": [],
   "source": [
    "disk = requests.get(f'{url}{folder_info}?path=app:/', headers = headers)"
   ]
  },
  {
   "cell_type": "code",
   "execution_count": 13,
   "metadata": {},
   "outputs": [
    {
     "name": "stdout",
     "output_type": "stream",
     "text": [
      "Горы.jpg\n",
      "Зима.jpg\n",
      "Мишки.jpg\n",
      "Море.jpg\n",
      "Москва.jpg\n",
      "Санкт-Петербург.jpg\n",
      "Хлебные крошки.mp4\n"
     ]
    }
   ],
   "source": [
    "# Названия файлов в папке\n",
    "\n",
    "for i in disk.json()['_embedded']['items']:\n",
    "    print(i['name'])"
   ]
  },
  {
   "cell_type": "code",
   "execution_count": 14,
   "metadata": {},
   "outputs": [],
   "source": [
    "with open('disk.json', 'w') as f:\n",
    "    json.dump(disk.json(), f)"
   ]
  }
 ],
 "metadata": {
  "kernelspec": {
   "display_name": "Python 3 (ipykernel)",
   "language": "python",
   "name": "python3"
  },
  "language_info": {
   "codemirror_mode": {
    "name": "ipython",
    "version": 3
   },
   "file_extension": ".py",
   "mimetype": "text/x-python",
   "name": "python",
   "nbconvert_exporter": "python",
   "pygments_lexer": "ipython3",
   "version": "3.9.12"
  }
 },
 "nbformat": 4,
 "nbformat_minor": 4
}
